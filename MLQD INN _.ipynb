{
 "cells": [
  {
   "cell_type": "code",
   "execution_count": 1,
   "metadata": {},
   "outputs": [
    {
     "name": "stdout",
     "output_type": "stream",
     "text": [
      "2.5.0\n",
      "       Core  Inner  Outer       405       410       415       420       425  \\\n",
      "0      1.73   2.82   0.61  0.000382  0.000414  0.000448  0.000485  0.000525   \n",
      "1      1.93   2.00   0.49  0.000341  0.000368  0.000397  0.000429  0.000463   \n",
      "6      1.68   2.98   2.72  0.000539  0.000589  0.000644  0.000705  0.000772   \n",
      "7      0.17   2.65   3.84  0.642560  0.988060  1.000000  0.685670  0.341110   \n",
      "9      0.88   2.07   0.78  0.000924  0.001030  0.001150  0.001287  0.001445   \n",
      "...     ...    ...    ...       ...       ...       ...       ...       ...   \n",
      "29993  1.76   0.25   3.46  0.000627  0.000689  0.000757  0.000834  0.000919   \n",
      "29994  0.69   2.11   0.33  0.001167  0.001313  0.001483  0.001681  0.001912   \n",
      "29995  1.73   2.78   2.79  0.000528  0.000577  0.000630  0.000690  0.000755   \n",
      "29996  1.81   2.21   1.43  0.000448  0.000487  0.000529  0.000576  0.000627   \n",
      "29998  2.00   0.56   3.46  0.000543  0.000593  0.000649  0.000710  0.000779   \n",
      "\n",
      "            430       435  ...       755       760       765       770  \\\n",
      "0      0.000569  0.000618  ...  0.013235  0.012279  0.011443  0.010705   \n",
      "1      0.000500  0.000541  ...  0.019828  0.017909  0.016336  0.015014   \n",
      "6      0.000847  0.000931  ...  0.005961  0.005695  0.005452  0.005229   \n",
      "7      0.139560  0.058203  ...  0.000826  0.000819  0.000811  0.000804   \n",
      "9      0.001627  0.001838  ...  0.002921  0.002840  0.002763  0.002691   \n",
      "...         ...       ...  ...       ...       ...       ...       ...   \n",
      "29993  0.001015  0.001123  ...  0.004584  0.004410  0.004249  0.004100   \n",
      "29994  0.002184  0.002507  ...  0.002401  0.002343  0.002288  0.002236   \n",
      "29995  0.000828  0.000910  ...  0.006058  0.005784  0.005533  0.005304   \n",
      "29996  0.000684  0.000746  ...  0.008474  0.008003  0.007579  0.007197   \n",
      "29998  0.000854  0.000939  ...  0.005884  0.005624  0.005385  0.005167   \n",
      "\n",
      "            775       780       785       790       796       800  \n",
      "0      0.010051  0.009468  0.008944  0.008473  0.008047  0.007660  \n",
      "1      0.013883  0.012901  0.012041  0.011281  0.010605  0.010001  \n",
      "6      0.005023  0.004834  0.004658  0.004495  0.004344  0.004203  \n",
      "7      0.000798  0.000791  0.000785  0.000779  0.000773  0.000768  \n",
      "9      0.002624  0.002560  0.002500  0.002443  0.002389  0.002338  \n",
      "...         ...       ...       ...       ...       ...       ...  \n",
      "29993  0.003962  0.003833  0.003713  0.003602  0.003497  0.003398  \n",
      "29994  0.002187  0.002141  0.002097  0.002056  0.002016  0.001978  \n",
      "29995  0.005092  0.004897  0.004717  0.004550  0.004395  0.004251  \n",
      "29996  0.006849  0.006533  0.006245  0.005980  0.005737  0.005513  \n",
      "29998  0.004965  0.004779  0.004607  0.004447  0.004299  0.004160  \n",
      "\n",
      "[25205 rows x 83 columns]\n"
     ]
    }
   ],
   "source": [
    "import pathlib\n",
    "import matplotlib.pyplot as plt\n",
    "import pandas as pd\n",
    "import seaborn as sns\n",
    "import pygad.nn\n",
    "\n",
    "from sklearn.model_selection import train_test_split\n",
    "from sklearn.preprocessing import StandardScaler, MinMaxScaler\n",
    "\n",
    "import tensorflow as tf\n",
    "from tensorflow import keras\n",
    "from tensorflow.keras import layers, optimizers\n",
    "from tensorflow.keras import callbacks\n",
    "from tensorflow.keras.layers import (Input, Dense, concatenate, LeakyReLU)\n",
    "\n",
    "print(tf.__version__)\n",
    "\n",
    "\n",
    "\n",
    "column_names = [\n",
    "    \"Core\",\n",
    "    \"Inner\",\n",
    "    \"Outer\",\n",
    "    \"405\",\"410\",\"415\",\"420\",\"425\",\"430\",\"435\", \"440\",\"445\", \"450\" ,\"455\",\"460\",\"465\",\"470\",\"475\",\"480\",\"485\",\"490\",\"495\",\"500\",\n",
    "    \"505\",\"510\",\"515\",\"520\",\"525\",\"530\",\"535\", \"540\",\"545\", \"550\" ,\"555\",\"560\",\"565\",\"570\",\"575\",\"580\",\"585\",\"590\",\"595\",\"600\",\n",
    "    \"605\",\"610\",\"615\",\"620\",\"625\",\"630\",\"635\", \"640\",\"645\",\"650\" ,\"655\",\"660\",\"665\",\"670\",\"675\",\"680\",\"685\",\"690\",\"695\",\"700\",\n",
    "    \"705\",\"710\",\"715\",\"720\",\"725\",\"730\",\"735\",\"740\", \"745\",\"750\" ,\"755\",\"760\",\"765\",\"770\",\"775\",\"780\",\"785\",\"790\",\"796\",\"800\"\n",
    "]\n",
    "raw_dataset = pd.read_csv(\n",
    "    'C:/Users/OIDL-Jang/Documents/Test_Set_Wavelength_2022-0117 15-00-55.csv',\n",
    "    names=column_names,\n",
    "    # encoding='cp949'\n",
    ")\n",
    "raw_data_dropna = raw_dataset.dropna()\n",
    "dataset = raw_data_dropna.copy()\n",
    "\n",
    "print(dataset)\n"
   ]
  },
  {
   "cell_type": "code",
   "execution_count": 2,
   "metadata": {},
   "outputs": [
    {
     "name": "stdout",
     "output_type": "stream",
     "text": [
      "            405       410       415       420       425       430       435  \\\n",
      "23665  0.000499  0.000544  0.000594  0.000648  0.000708  0.000775  0.000849   \n",
      "24210  0.000480  0.000523  0.000570  0.000621  0.000678  0.000741  0.000810   \n",
      "27292  0.000434  0.000471  0.000512  0.000556  0.000605  0.000659  0.000718   \n",
      "13092  0.001324  0.001499  0.001704  0.001944  0.002229  0.002568  0.002976   \n",
      "20762  0.000801  0.000887  0.000985  0.001095  0.001220  0.001362  0.001525   \n",
      "...         ...       ...       ...       ...       ...       ...       ...   \n",
      "11696  0.000727  0.000803  0.000888  0.000983  0.001091  0.001213  0.001352   \n",
      "10530  0.000531  0.000580  0.000634  0.000693  0.000759  0.000833  0.000915   \n",
      "3665   0.000806  0.000893  0.000991  0.001103  0.001230  0.001374  0.001540   \n",
      "18517  0.001373  0.001559  0.001776  0.002033  0.002338  0.002704  0.003146   \n",
      "22923  0.222760  0.531720  0.888060  1.000000  0.771860  0.430050  0.189930   \n",
      "\n",
      "            440       445       450  ...       755       760       765  \\\n",
      "23665  0.000931  0.001022  0.001124  ...  0.006874  0.006539  0.006234   \n",
      "24210  0.000887  0.000973  0.001068  ...  0.007374  0.006998  0.006658   \n",
      "27292  0.000784  0.000856  0.000935  ...  0.009155  0.008622  0.008145   \n",
      "13092  0.003470  0.004077  0.004831  ...  0.002212  0.002162  0.002115   \n",
      "20762  0.001713  0.001929  0.002181  ...  0.003422  0.003316  0.003217   \n",
      "...         ...       ...       ...  ...       ...       ...       ...   \n",
      "11696  0.001511  0.001692  0.001901  ...  0.003763  0.003637  0.003521   \n",
      "10530  0.001006  0.001108  0.001222  ...  0.006026  0.005754  0.005506   \n",
      "3665   0.001731  0.001951  0.002207  ...  0.003350  0.003247  0.003151   \n",
      "18517  0.003687  0.004355  0.005192  ...  0.002116  0.002069  0.002025   \n",
      "22923  0.078450  0.037774  0.023307  ...  0.000839  0.000831  0.000823   \n",
      "\n",
      "            770       775       780       785       790       796       800  \n",
      "23665  0.005957  0.005702  0.005469  0.005254  0.005055  0.004872  0.004701  \n",
      "24210  0.006348  0.006066  0.005807  0.005569  0.005350  0.005148  0.004961  \n",
      "27292  0.007716  0.007327  0.006975  0.006654  0.006361  0.006092  0.005845  \n",
      "13092  0.002070  0.002027  0.001987  0.001949  0.001912  0.001878  0.001845  \n",
      "20762  0.003124  0.003037  0.002955  0.002878  0.002806  0.002738  0.002674  \n",
      "...         ...       ...       ...       ...       ...       ...       ...  \n",
      "11696  0.003412  0.003310  0.003215  0.003126  0.003043  0.002964  0.002890  \n",
      "10530  0.005278  0.005068  0.004875  0.004697  0.004531  0.004377  0.004234  \n",
      "3665   0.003061  0.002976  0.002897  0.002823  0.002752  0.002686  0.002624  \n",
      "18517  0.001983  0.001943  0.001906  0.001870  0.001836  0.001803  0.001772  \n",
      "22923  0.000815  0.000808  0.000801  0.000795  0.000788  0.000782  0.000776  \n",
      "\n",
      "[10082 rows x 80 columns]\n",
      "       Core  Inner  Outer\n",
      "23665  1.88   2.09   2.53\n",
      "24210  2.02   2.38   3.02\n",
      "27292  1.89   2.32   1.49\n",
      "13092  0.71   1.05   0.24\n",
      "20762  1.29   1.85   4.06\n",
      "...     ...    ...    ...\n",
      "11696  1.31   0.29   1.14\n",
      "10530  1.12   2.55   0.33\n",
      "3665   1.14   2.06   1.98\n",
      "18517  0.70   2.48   0.86\n",
      "22923  0.35   2.00   3.94\n",
      "\n",
      "[10082 rows x 3 columns]\n"
     ]
    }
   ],
   "source": [
    "\n",
    "# print(dataset.tail())\n",
    "\n",
    "y_all = dataset.iloc[:,:3]\n",
    "x_all = dataset.iloc[:,3:]\n",
    "\n",
    "x_train_all, x_test, y_train_all, y_test = train_test_split(x_all, y_all, test_size = 0.4)\n",
    "# x_train_all, x_test = train_test_split(x_all, test_size = 0.2)\n",
    "x_train, x_valid, y_train, y_valid = train_test_split(x_train_all, y_train_all, test_size = 0.2)\n",
    "#train_dataset = dataset.sample(frac=0.8, random_state=0)\n",
    "#test_dataset = dataset.drop(train_dataset.index)\n",
    "\n",
    "# print(x_all)\n",
    "\n",
    "# print(x_train_all)\n",
    "# print(x_train)\n",
    "print(x_test)\n",
    "print(y_test)"
   ]
  },
  {
   "cell_type": "code",
   "execution_count": 3,
   "metadata": {},
   "outputs": [
    {
     "name": "stdout",
     "output_type": "stream",
     "text": [
      "            405       410       415       420       425       430       435  \\\n",
      "11061  0.000898  0.000999  0.001114  0.001245  0.001395  0.001567  0.001765   \n",
      "5306   0.000386  0.000418  0.000453  0.000490  0.000532  0.000577  0.000626   \n",
      "27353  0.863660  1.000000  0.763630  0.407930  0.170340  0.067945  0.033151   \n",
      "25234  0.000567  0.000621  0.000680  0.000746  0.000819  0.000901  0.000992   \n",
      "16717  0.003073  0.003677  0.004448  0.005450  0.006781  0.008597  0.011172   \n",
      "...         ...       ...       ...       ...       ...       ...       ...   \n",
      "15538  0.000472  0.000514  0.000559  0.000610  0.000665  0.000726  0.000794   \n",
      "26299  0.000983  0.001099  0.001230  0.001382  0.001556  0.001758  0.001994   \n",
      "28265  0.002373  0.002785  0.003294  0.003932  0.004743  0.005794  0.007184   \n",
      "21609  0.002789  0.003310  0.003966  0.004805  0.005898  0.007357  0.009358   \n",
      "7792   0.000447  0.000486  0.000529  0.000575  0.000627  0.000683  0.000745   \n",
      "\n",
      "            440       445       450  ...       755       760       765  \\\n",
      "11061  0.001996  0.002266  0.002583  ...  0.003063  0.002975  0.002893   \n",
      "5306   0.000680  0.000739  0.000804  ...  0.012679  0.011785  0.011001   \n",
      "27353  0.021029  0.015459  0.012130  ...  0.000772  0.000765  0.000758   \n",
      "25234  0.001094  0.001208  0.001337  ...  0.005420  0.005192  0.004982   \n",
      "16717  0.015093  0.022161  0.038706  ...  0.001418  0.001396  0.001374   \n",
      "...         ...       ...       ...  ...       ...       ...       ...   \n",
      "15538  0.000869  0.000952  0.001044  ...  0.007610  0.007214  0.006856   \n",
      "26299  0.002271  0.002597  0.002985  ...  0.002758  0.002684  0.002615   \n",
      "28265  0.009075  0.011746  0.015829  ...  0.001569  0.001541  0.001515   \n",
      "21609  0.012225  0.016714  0.025292  ...  0.001488  0.001463  0.001439   \n",
      "7792   0.000814  0.000890  0.000974  ...  0.008500  0.008027  0.007601   \n",
      "\n",
      "            770       775       780       785       790       796       800  \n",
      "11061  0.002816  0.002743  0.002675  0.002610  0.002549  0.002492  0.002438  \n",
      "5306   0.010308  0.009691  0.009140  0.008644  0.008198  0.007793  0.007425  \n",
      "27353  0.000752  0.000746  0.000740  0.000734  0.000729  0.000724  0.000719  \n",
      "25234  0.004789  0.004611  0.004446  0.004293  0.004151  0.004018  0.003894  \n",
      "16717  0.001353  0.001334  0.001315  0.001297  0.001279  0.001263  0.001247  \n",
      "...         ...       ...       ...       ...       ...       ...       ...  \n",
      "15538  0.006531  0.006235  0.005964  0.005716  0.005487  0.005276  0.005082  \n",
      "26299  0.002549  0.002488  0.002429  0.002375  0.002323  0.002273  0.002227  \n",
      "28265  0.001490  0.001467  0.001444  0.001423  0.001402  0.001382  0.001363  \n",
      "21609  0.001417  0.001396  0.001375  0.001356  0.001337  0.001319  0.001302  \n",
      "7792   0.007217  0.006868  0.006551  0.006261  0.005995  0.005751  0.005526  \n",
      "\n",
      "[3025 rows x 80 columns]\n"
     ]
    }
   ],
   "source": [
    "print(x_valid)"
   ]
  },
  {
   "cell_type": "code",
   "execution_count": 4,
   "metadata": {},
   "outputs": [],
   "source": [
    "scaler = MinMaxScaler()\n",
    "nx_train = scaler.fit_transform(x_train)\n",
    "x_valide = scaler.transform(x_valid)\n",
    "nx_test  = scaler.transform(x_test)\n"
   ]
  },
  {
   "cell_type": "code",
   "execution_count": 5,
   "metadata": {},
   "outputs": [],
   "source": [
    "# print(nx_train)"
   ]
  },
  {
   "cell_type": "code",
   "execution_count": 6,
   "metadata": {},
   "outputs": [],
   "source": [
    "input_shape = Input(shape = (80,), name = \"Thickness\")\n",
    "hidden1 = Dense(25, activation = 'LeakyReLU', name = \"Hidden1\")(input_shape)\n",
    "hidden2 = Dense(25, activation = 'LeakyReLU', name = \"Hidden2\")(hidden1)\n",
    "hidden3 = Dense(25, activation = 'LeakyReLU', name = \"Hidden3\")(hidden2)\n",
    "# hidden4 = Dense(50, activation = 'LeakyReLU', name = \"Hidden4\")(hidden3)\n",
    "# hidden5 = Dense(200, activation = 'LeakyReLU', name = \"Hidden5\")(hidden4)\n",
    "# hidden6 = Dense(200, activation = 'LeakyReLU', name = \"Hidden6\")(hidden5)\n",
    "# hidden7 = Dense(200, activation = 'LeakyReLU', name = \"Hidden7\")(hidden6)\n",
    "# hidden8 = Dense(200, activation = 'LeakyReLU', name = \"Hidden8\")(hidden7)\n",
    "# hidden9 = Dense(200, activation = 'LeakyReLU', name = \"Hidden9\")(hidden8)\n",
    "# hidden10 = Dense(200, activation = 'LeakyReLU', name = \"Hidden10\")(hidden9)\n",
    "output = Dense(3, name = \"Output\")(hidden3)\n",
    "\n",
    "\n",
    "model = keras.Model(inputs=input_shape, outputs = output)"
   ]
  },
  {
   "cell_type": "code",
   "execution_count": 7,
   "metadata": {},
   "outputs": [
    {
     "name": "stdout",
     "output_type": "stream",
     "text": [
      "Model: \"model\"\n",
      "_________________________________________________________________\n",
      "Layer (type)                 Output Shape              Param #   \n",
      "=================================================================\n",
      "Thickness (InputLayer)       [(None, 80)]              0         \n",
      "_________________________________________________________________\n",
      "Hidden1 (Dense)              (None, 25)                2025      \n",
      "_________________________________________________________________\n",
      "Hidden2 (Dense)              (None, 25)                650       \n",
      "_________________________________________________________________\n",
      "Hidden3 (Dense)              (None, 25)                650       \n",
      "_________________________________________________________________\n",
      "Output (Dense)               (None, 3)                 78        \n",
      "=================================================================\n",
      "Total params: 3,403\n",
      "Trainable params: 3,403\n",
      "Non-trainable params: 0\n",
      "_________________________________________________________________\n"
     ]
    }
   ],
   "source": [
    "model.compile(loss=\"mse\", optimizer=\"Adam\", metrics=[\"mse\"],)\n",
    "\n",
    "model.summary()"
   ]
  },
  {
   "cell_type": "code",
   "execution_count": 8,
   "metadata": {},
   "outputs": [
    {
     "name": "stdout",
     "output_type": "stream",
     "text": [
      "316/316 [==============================] - 0s 370us/step - loss: 3.6642 - mse: 3.6642\n"
     ]
    }
   ],
   "source": [
    "model.evaluate(nx_test,y_test,batch_size=32)\n",
    "early_stop = tf.keras.callbacks.EarlyStopping(monitor='val_loss', patience = 10, restore_best_weights = True)\n"
   ]
  },
  {
   "cell_type": "code",
   "execution_count": 9,
   "metadata": {},
   "outputs": [
    {
     "name": "stdout",
     "output_type": "stream",
     "text": [
      "Epoch 1/5000\n",
      "379/379 [==============================] - 1s 987us/step - loss: 0.8127 - mse: 0.8127 - val_loss: 0.6319 - val_mse: 0.6319\n",
      "Epoch 2/5000\n",
      "379/379 [==============================] - 0s 683us/step - loss: 0.6118 - mse: 0.6118 - val_loss: 0.6223 - val_mse: 0.6223\n",
      "Epoch 3/5000\n",
      "379/379 [==============================] - 0s 689us/step - loss: 0.6081 - mse: 0.6081 - val_loss: 0.6174 - val_mse: 0.6174\n",
      "Epoch 4/5000\n",
      "379/379 [==============================] - 0s 715us/step - loss: 0.6060 - mse: 0.6060 - val_loss: 0.6286 - val_mse: 0.6286\n",
      "Epoch 5/5000\n",
      "379/379 [==============================] - 0s 723us/step - loss: 0.6066 - mse: 0.6066 - val_loss: 0.6179 - val_mse: 0.6179\n",
      "Epoch 6/5000\n",
      "379/379 [==============================] - 0s 683us/step - loss: 0.6055 - mse: 0.6055 - val_loss: 0.6163 - val_mse: 0.6163\n",
      "Epoch 7/5000\n",
      "379/379 [==============================] - 0s 699us/step - loss: 0.6048 - mse: 0.6048 - val_loss: 0.6162 - val_mse: 0.6162\n",
      "Epoch 8/5000\n",
      "379/379 [==============================] - 0s 697us/step - loss: 0.6049 - mse: 0.6049 - val_loss: 0.6146 - val_mse: 0.6146\n",
      "Epoch 9/5000\n",
      "379/379 [==============================] - 0s 760us/step - loss: 0.6058 - mse: 0.6058 - val_loss: 0.6157 - val_mse: 0.6157\n",
      "Epoch 10/5000\n",
      "379/379 [==============================] - 0s 691us/step - loss: 0.6056 - mse: 0.6056 - val_loss: 0.6157 - val_mse: 0.6157\n",
      "Epoch 11/5000\n",
      "379/379 [==============================] - 0s 689us/step - loss: 0.6040 - mse: 0.6040 - val_loss: 0.6193 - val_mse: 0.6193\n",
      "Epoch 12/5000\n",
      "379/379 [==============================] - 0s 691us/step - loss: 0.6040 - mse: 0.6040 - val_loss: 0.6147 - val_mse: 0.6147\n",
      "Epoch 13/5000\n",
      "379/379 [==============================] - 0s 715us/step - loss: 0.6029 - mse: 0.6029 - val_loss: 0.6168 - val_mse: 0.6168\n",
      "Epoch 14/5000\n",
      "379/379 [==============================] - 0s 763us/step - loss: 0.6032 - mse: 0.6032 - val_loss: 0.6135 - val_mse: 0.6135\n",
      "Epoch 15/5000\n",
      "379/379 [==============================] - 0s 686us/step - loss: 0.6031 - mse: 0.6031 - val_loss: 0.6129 - val_mse: 0.6129\n",
      "Epoch 16/5000\n",
      "379/379 [==============================] - 0s 681us/step - loss: 0.6030 - mse: 0.6030 - val_loss: 0.6139 - val_mse: 0.6139\n",
      "Epoch 17/5000\n",
      "379/379 [==============================] - 0s 681us/step - loss: 0.6032 - mse: 0.6032 - val_loss: 0.6188 - val_mse: 0.6188\n",
      "Epoch 18/5000\n",
      "379/379 [==============================] - 0s 784us/step - loss: 0.6035 - mse: 0.6035 - val_loss: 0.6112 - val_mse: 0.6112\n",
      "Epoch 19/5000\n",
      "379/379 [==============================] - 0s 681us/step - loss: 0.6028 - mse: 0.6028 - val_loss: 0.6138 - val_mse: 0.6138\n",
      "Epoch 20/5000\n",
      "379/379 [==============================] - 0s 670us/step - loss: 0.6030 - mse: 0.6030 - val_loss: 0.6169 - val_mse: 0.6169\n",
      "Epoch 21/5000\n",
      "379/379 [==============================] - 0s 689us/step - loss: 0.6035 - mse: 0.6035 - val_loss: 0.6148 - val_mse: 0.6148\n",
      "Epoch 22/5000\n",
      "379/379 [==============================] - 0s 702us/step - loss: 0.6037 - mse: 0.6037 - val_loss: 0.6176 - val_mse: 0.6176\n",
      "Epoch 23/5000\n",
      "379/379 [==============================] - 0s 702us/step - loss: 0.6032 - mse: 0.6032 - val_loss: 0.6176 - val_mse: 0.6176\n",
      "Epoch 24/5000\n",
      "379/379 [==============================] - 0s 683us/step - loss: 0.6033 - mse: 0.6033 - val_loss: 0.6138 - val_mse: 0.6138\n",
      "Epoch 25/5000\n",
      "379/379 [==============================] - 0s 691us/step - loss: 0.6028 - mse: 0.6028 - val_loss: 0.6155 - val_mse: 0.6155\n",
      "Epoch 26/5000\n",
      "379/379 [==============================] - 0s 702us/step - loss: 0.6022 - mse: 0.6022 - val_loss: 0.6116 - val_mse: 0.6116\n",
      "Epoch 27/5000\n",
      "379/379 [==============================] - 0s 741us/step - loss: 0.6021 - mse: 0.6021 - val_loss: 0.6110 - val_mse: 0.6110\n",
      "Epoch 28/5000\n",
      "379/379 [==============================] - 0s 689us/step - loss: 0.6025 - mse: 0.6025 - val_loss: 0.6116 - val_mse: 0.6116\n",
      "Epoch 29/5000\n",
      "379/379 [==============================] - 0s 689us/step - loss: 0.6023 - mse: 0.6023 - val_loss: 0.6137 - val_mse: 0.6137\n",
      "Epoch 30/5000\n",
      "379/379 [==============================] - 0s 707us/step - loss: 0.6011 - mse: 0.6011 - val_loss: 0.6175 - val_mse: 0.6175\n",
      "Epoch 31/5000\n",
      "379/379 [==============================] - 0s 699us/step - loss: 0.6023 - mse: 0.6023 - val_loss: 0.6115 - val_mse: 0.6115\n",
      "Epoch 32/5000\n",
      "379/379 [==============================] - 0s 683us/step - loss: 0.6020 - mse: 0.6020 - val_loss: 0.6178 - val_mse: 0.6178\n",
      "Epoch 33/5000\n",
      "379/379 [==============================] - 0s 689us/step - loss: 0.6022 - mse: 0.6022 - val_loss: 0.6115 - val_mse: 0.6115\n",
      "Epoch 34/5000\n",
      "379/379 [==============================] - 0s 673us/step - loss: 0.6022 - mse: 0.6022 - val_loss: 0.6219 - val_mse: 0.6219\n",
      "Epoch 35/5000\n",
      "379/379 [==============================] - 0s 731us/step - loss: 0.6022 - mse: 0.6022 - val_loss: 0.6140 - val_mse: 0.6140\n",
      "Epoch 36/5000\n",
      "379/379 [==============================] - 0s 784us/step - loss: 0.6023 - mse: 0.6023 - val_loss: 0.6108 - val_mse: 0.6108\n",
      "Epoch 37/5000\n",
      "379/379 [==============================] - 0s 702us/step - loss: 0.6019 - mse: 0.6019 - val_loss: 0.6129 - val_mse: 0.6129\n",
      "Epoch 38/5000\n",
      "379/379 [==============================] - 0s 710us/step - loss: 0.6022 - mse: 0.6022 - val_loss: 0.6107 - val_mse: 0.6107\n",
      "Epoch 39/5000\n",
      "379/379 [==============================] - 0s 707us/step - loss: 0.6016 - mse: 0.6016 - val_loss: 0.6123 - val_mse: 0.6123\n",
      "Epoch 40/5000\n",
      "379/379 [==============================] - 0s 752us/step - loss: 0.6014 - mse: 0.6014 - val_loss: 0.6151 - val_mse: 0.6151\n",
      "Epoch 41/5000\n",
      "379/379 [==============================] - 0s 715us/step - loss: 0.6018 - mse: 0.6018 - val_loss: 0.6144 - val_mse: 0.6144\n",
      "Epoch 42/5000\n",
      "379/379 [==============================] - 0s 694us/step - loss: 0.6025 - mse: 0.6025 - val_loss: 0.6121 - val_mse: 0.6121\n",
      "Epoch 43/5000\n",
      "379/379 [==============================] - 0s 763us/step - loss: 0.6017 - mse: 0.6017 - val_loss: 0.6138 - val_mse: 0.6138\n",
      "Epoch 44/5000\n",
      "379/379 [==============================] - 0s 739us/step - loss: 0.6012 - mse: 0.6012 - val_loss: 0.6218 - val_mse: 0.6218\n",
      "Epoch 45/5000\n",
      "379/379 [==============================] - 0s 733us/step - loss: 0.6027 - mse: 0.6027 - val_loss: 0.6118 - val_mse: 0.6118\n",
      "Epoch 46/5000\n",
      "379/379 [==============================] - 0s 718us/step - loss: 0.6021 - mse: 0.6021 - val_loss: 0.6129 - val_mse: 0.6129\n",
      "Epoch 47/5000\n",
      "379/379 [==============================] - 0s 723us/step - loss: 0.6010 - mse: 0.6010 - val_loss: 0.6148 - val_mse: 0.6148\n",
      "Epoch 48/5000\n",
      "379/379 [==============================] - 0s 702us/step - loss: 0.6016 - mse: 0.6016 - val_loss: 0.6139 - val_mse: 0.6139\n"
     ]
    },
    {
     "data": {
      "text/plain": [
       "<module 'pygad.nn' from 'C:\\\\Python39\\\\lib\\\\site-packages\\\\pygad\\\\nn\\\\__init__.py'>"
      ]
     },
     "execution_count": 9,
     "metadata": {},
     "output_type": "execute_result"
    }
   ],
   "source": [
    "\n",
    "history = model.fit( nx_train, y_train,\n",
    "    epochs=5000,\n",
    "    batch_size = 32,\n",
    "    validation_data = (x_valid,y_valid),\n",
    "    callbacks=[early_stop],\n",
    ")\n",
    "\n",
    "pygad.nn\n"
   ]
  },
  {
   "cell_type": "code",
   "execution_count": 10,
   "metadata": {},
   "outputs": [
    {
     "data": {
      "image/png": "[encoded data removed]",
      "text/plain": [
       "<Figure size 864x576 with 1 Axes>"
      ]
     },
     "metadata": {
      "needs_background": "light"
     },
     "output_type": "display_data"
    }
   ],
   "source": [
    "def Drawing_Scalars(history_name):\n",
    "\n",
    "    history_WL = pd.DataFrame(history_name.history)\n",
    "    history_WL.plot(figsize=(12,8),linewidth =3)\n",
    "\n",
    "    plt.grid(True)\n",
    "\n",
    "    plt.legend(loc =\"upper right\",fontsize = 15)\n",
    "\n",
    "    plt.title(\"Learning Curve\",fontsize=30, pad=30, color = 'white')\n",
    "    plt.xlabel(\"Epoch\",fontsize = 20, loc='center',labelpad = 20,color = 'white')\n",
    "    plt.ylabel('Variable',fontsize=20,rotation= 0, loc = 'center', labelpad = 40,color = 'white')\n",
    "\n",
    "    ax = plt.gca()\n",
    "    ax.spines[\"right\"].set_visible(False)\n",
    "    ax.spines[\"top\"].set_visible(False)\n",
    "\n",
    "    plt.show()\n",
    "\n",
    "\n",
    "Drawing_Scalars(history)\n",
    "\n"
   ]
  },
  {
   "cell_type": "code",
   "execution_count": 11,
   "metadata": {},
   "outputs": [
    {
     "name": "stdout",
     "output_type": "stream",
     "text": [
      "79/79 [==============================] - 0s 409us/step - loss: 0.6039 - mse: 0.6039\n",
      "[[1.7467222  1.6956799  2.0073993 ]\n",
      " [1.7422811  1.7433994  1.6947055 ]\n",
      " [1.7138588  1.7328229  1.0421419 ]\n",
      " ...\n",
      " [1.186459   1.5037391  2.2758205 ]\n",
      " [0.8841902  1.5456152  2.2271564 ]\n",
      " [0.35312492 1.9599249  2.2783253 ]]\n"
     ]
    }
   ],
   "source": [
    "# test_predictions = model.predict(x_valid).flatten()\n",
    "\n",
    "# tf.size(test_predictions)\n",
    "\n",
    "# print(test_predictions)\n",
    "\n",
    "results = model.evaluate(nx_test, y_test,batch_size = 128)\n",
    "\n",
    "predictions = model.predict(nx_test)\n",
    "\n",
    "print(predictions)\n",
    "\n"
   ]
  },
  {
   "cell_type": "code",
   "execution_count": 12,
   "metadata": {},
   "outputs": [
    {
     "name": "stdout",
     "output_type": "stream",
     "text": [
      "            405       410       415       420       425       430       435  \\\n",
      "23665  0.000499  0.000544  0.000594  0.000648  0.000708  0.000775  0.000849   \n",
      "24210  0.000480  0.000523  0.000570  0.000621  0.000678  0.000741  0.000810   \n",
      "27292  0.000434  0.000471  0.000512  0.000556  0.000605  0.000659  0.000718   \n",
      "13092  0.001324  0.001499  0.001704  0.001944  0.002229  0.002568  0.002976   \n",
      "20762  0.000801  0.000887  0.000985  0.001095  0.001220  0.001362  0.001525   \n",
      "...         ...       ...       ...       ...       ...       ...       ...   \n",
      "11696  0.000727  0.000803  0.000888  0.000983  0.001091  0.001213  0.001352   \n",
      "10530  0.000531  0.000580  0.000634  0.000693  0.000759  0.000833  0.000915   \n",
      "3665   0.000806  0.000893  0.000991  0.001103  0.001230  0.001374  0.001540   \n",
      "18517  0.001373  0.001559  0.001776  0.002033  0.002338  0.002704  0.003146   \n",
      "22923  0.222760  0.531720  0.888060  1.000000  0.771860  0.430050  0.189930   \n",
      "\n",
      "            440       445       450  ...       755       760       765  \\\n",
      "23665  0.000931  0.001022  0.001124  ...  0.006874  0.006539  0.006234   \n",
      "24210  0.000887  0.000973  0.001068  ...  0.007374  0.006998  0.006658   \n",
      "27292  0.000784  0.000856  0.000935  ...  0.009155  0.008622  0.008145   \n",
      "13092  0.003470  0.004077  0.004831  ...  0.002212  0.002162  0.002115   \n",
      "20762  0.001713  0.001929  0.002181  ...  0.003422  0.003316  0.003217   \n",
      "...         ...       ...       ...  ...       ...       ...       ...   \n",
      "11696  0.001511  0.001692  0.001901  ...  0.003763  0.003637  0.003521   \n",
      "10530  0.001006  0.001108  0.001222  ...  0.006026  0.005754  0.005506   \n",
      "3665   0.001731  0.001951  0.002207  ...  0.003350  0.003247  0.003151   \n",
      "18517  0.003687  0.004355  0.005192  ...  0.002116  0.002069  0.002025   \n",
      "22923  0.078450  0.037774  0.023307  ...  0.000839  0.000831  0.000823   \n",
      "\n",
      "            770       775       780       785       790       796       800  \n",
      "23665  0.005957  0.005702  0.005469  0.005254  0.005055  0.004872  0.004701  \n",
      "24210  0.006348  0.006066  0.005807  0.005569  0.005350  0.005148  0.004961  \n",
      "27292  0.007716  0.007327  0.006975  0.006654  0.006361  0.006092  0.005845  \n",
      "13092  0.002070  0.002027  0.001987  0.001949  0.001912  0.001878  0.001845  \n",
      "20762  0.003124  0.003037  0.002955  0.002878  0.002806  0.002738  0.002674  \n",
      "...         ...       ...       ...       ...       ...       ...       ...  \n",
      "11696  0.003412  0.003310  0.003215  0.003126  0.003043  0.002964  0.002890  \n",
      "10530  0.005278  0.005068  0.004875  0.004697  0.004531  0.004377  0.004234  \n",
      "3665   0.003061  0.002976  0.002897  0.002823  0.002752  0.002686  0.002624  \n",
      "18517  0.001983  0.001943  0.001906  0.001870  0.001836  0.001803  0.001772  \n",
      "22923  0.000815  0.000808  0.000801  0.000795  0.000788  0.000782  0.000776  \n",
      "\n",
      "[10082 rows x 80 columns]\n",
      "       Core  Inner  Outer\n",
      "23665  1.88   2.09   2.53\n",
      "24210  2.02   2.38   3.02\n",
      "27292  1.89   2.32   1.49\n",
      "13092  0.71   1.05   0.24\n",
      "20762  1.29   1.85   4.06\n",
      "...     ...    ...    ...\n",
      "11696  1.31   0.29   1.14\n",
      "10530  1.12   2.55   0.33\n",
      "3665   1.14   2.06   1.98\n",
      "18517  0.70   2.48   0.86\n",
      "22923  0.35   2.00   3.94\n",
      "\n",
      "[10082 rows x 3 columns]\n"
     ]
    }
   ],
   "source": [
    "# import numpy as np\n",
    "# import sys\n",
    "\n",
    "# np.set_printoptions(threshold=sys.maxsize)\n",
    "# print(predictions)\n",
    "\n",
    "print(x_test)\n",
    "print(y_test)"
   ]
  },
  {
   "cell_type": "code",
   "execution_count": 13,
   "metadata": {},
   "outputs": [
    {
     "name": "stdout",
     "output_type": "stream",
     "text": [
      "316/316 [==============================] - 0s 624us/step - loss: 0.6056 - mse: 0.6056\n",
      "0.6055898666381836\n"
     ]
    }
   ],
   "source": [
    "score = model.evaluate(x_test,y_test,verbose=1)\n",
    "print(score[1])"
   ]
  },
  {
   "cell_type": "code",
   "execution_count": 14,
   "metadata": {},
   "outputs": [
    {
     "name": "stdout",
     "output_type": "stream",
     "text": [
      "            405       410       415       420       425       430       435  \\\n",
      "23665  0.000499  0.000544  0.000594  0.000648  0.000708  0.000775  0.000849   \n",
      "24210  0.000480  0.000523  0.000570  0.000621  0.000678  0.000741  0.000810   \n",
      "27292  0.000434  0.000471  0.000512  0.000556  0.000605  0.000659  0.000718   \n",
      "13092  0.001324  0.001499  0.001704  0.001944  0.002229  0.002568  0.002976   \n",
      "20762  0.000801  0.000887  0.000985  0.001095  0.001220  0.001362  0.001525   \n",
      "...         ...       ...       ...       ...       ...       ...       ...   \n",
      "11696  0.000727  0.000803  0.000888  0.000983  0.001091  0.001213  0.001352   \n",
      "10530  0.000531  0.000580  0.000634  0.000693  0.000759  0.000833  0.000915   \n",
      "3665   0.000806  0.000893  0.000991  0.001103  0.001230  0.001374  0.001540   \n",
      "18517  0.001373  0.001559  0.001776  0.002033  0.002338  0.002704  0.003146   \n",
      "22923  0.222760  0.531720  0.888060  1.000000  0.771860  0.430050  0.189930   \n",
      "\n",
      "            440       445       450  ...       755       760       765  \\\n",
      "23665  0.000931  0.001022  0.001124  ...  0.006874  0.006539  0.006234   \n",
      "24210  0.000887  0.000973  0.001068  ...  0.007374  0.006998  0.006658   \n",
      "27292  0.000784  0.000856  0.000935  ...  0.009155  0.008622  0.008145   \n",
      "13092  0.003470  0.004077  0.004831  ...  0.002212  0.002162  0.002115   \n",
      "20762  0.001713  0.001929  0.002181  ...  0.003422  0.003316  0.003217   \n",
      "...         ...       ...       ...  ...       ...       ...       ...   \n",
      "11696  0.001511  0.001692  0.001901  ...  0.003763  0.003637  0.003521   \n",
      "10530  0.001006  0.001108  0.001222  ...  0.006026  0.005754  0.005506   \n",
      "3665   0.001731  0.001951  0.002207  ...  0.003350  0.003247  0.003151   \n",
      "18517  0.003687  0.004355  0.005192  ...  0.002116  0.002069  0.002025   \n",
      "22923  0.078450  0.037774  0.023307  ...  0.000839  0.000831  0.000823   \n",
      "\n",
      "            770       775       780       785       790       796       800  \n",
      "23665  0.005957  0.005702  0.005469  0.005254  0.005055  0.004872  0.004701  \n",
      "24210  0.006348  0.006066  0.005807  0.005569  0.005350  0.005148  0.004961  \n",
      "27292  0.007716  0.007327  0.006975  0.006654  0.006361  0.006092  0.005845  \n",
      "13092  0.002070  0.002027  0.001987  0.001949  0.001912  0.001878  0.001845  \n",
      "20762  0.003124  0.003037  0.002955  0.002878  0.002806  0.002738  0.002674  \n",
      "...         ...       ...       ...       ...       ...       ...       ...  \n",
      "11696  0.003412  0.003310  0.003215  0.003126  0.003043  0.002964  0.002890  \n",
      "10530  0.005278  0.005068  0.004875  0.004697  0.004531  0.004377  0.004234  \n",
      "3665   0.003061  0.002976  0.002897  0.002823  0.002752  0.002686  0.002624  \n",
      "18517  0.001983  0.001943  0.001906  0.001870  0.001836  0.001803  0.001772  \n",
      "22923  0.000815  0.000808  0.000801  0.000795  0.000788  0.000782  0.000776  \n",
      "\n",
      "[10082 rows x 80 columns]\n"
     ]
    }
   ],
   "source": [
    "import numpy as np\n",
    "print(x_test)\n",
    "\n",
    "# wave_range = np.arange(405,805,5)\n",
    "# plt.scatter(wave_range,predictions[5040,:])\n"
   ]
  },
  {
   "cell_type": "code",
   "execution_count": 15,
   "metadata": {},
   "outputs": [
    {
     "name": "stdout",
     "output_type": "stream",
     "text": [
      "[[1.7467222  1.6956799  2.0073993 ]\n",
      " [1.7422811  1.7433994  1.6947055 ]\n",
      " [1.7138588  1.7328229  1.0421419 ]\n",
      " ...\n",
      " [1.186459   1.5037391  2.2758205 ]\n",
      " [0.8841902  1.5456152  2.2271564 ]\n",
      " [0.35312492 1.9599249  2.2783253 ]]\n"
     ]
    },
    {
     "data": {
      "image/png": "[encoded data removed]",
      "text/plain": [
       "<Figure size 432x288 with 1 Axes>"
      ]
     },
     "metadata": {
      "needs_background": "light"
     },
     "output_type": "display_data"
    }
   ],
   "source": [
    "import numpy as np\n",
    "from sklearn.impute import SimpleImputer\n",
    "wave_range = np.arange(405,805,5)\n",
    "yy = x_test.iloc[0,:].values\n",
    "# Emission = imputer.transform(x_test.iloc[0,:])\n",
    "plt.scatter(wave_range,x_test.iloc[5040,:])\n",
    "plt.scatter(wave_range,x_test.iloc[5039,:])\n",
    "plt.scatter(wave_range,x_test.iloc[5038,:])\n",
    "plt.scatter(wave_range,x_test.iloc[1,:])\n",
    "plt.scatter(wave_range,x_test.iloc[2,:])\n",
    "print(predictions)\n",
    "\n"
   ]
  },
  {
   "cell_type": "code",
   "execution_count": 17,
   "metadata": {},
   "outputs": [
    {
     "name": "stdout",
     "output_type": "stream",
     "text": [
      "            405       410       415       420       425       430       435  \\\n",
      "11061  0.000898  0.000999  0.001114  0.001245  0.001395  0.001567  0.001765   \n",
      "5306   0.000386  0.000418  0.000453  0.000490  0.000532  0.000577  0.000626   \n",
      "27353  0.863660  1.000000  0.763630  0.407930  0.170340  0.067945  0.033151   \n",
      "25234  0.000567  0.000621  0.000680  0.000746  0.000819  0.000901  0.000992   \n",
      "16717  0.003073  0.003677  0.004448  0.005450  0.006781  0.008597  0.011172   \n",
      "...         ...       ...       ...       ...       ...       ...       ...   \n",
      "15538  0.000472  0.000514  0.000559  0.000610  0.000665  0.000726  0.000794   \n",
      "26299  0.000983  0.001099  0.001230  0.001382  0.001556  0.001758  0.001994   \n",
      "28265  0.002373  0.002785  0.003294  0.003932  0.004743  0.005794  0.007184   \n",
      "21609  0.002789  0.003310  0.003966  0.004805  0.005898  0.007357  0.009358   \n",
      "7792   0.000447  0.000486  0.000529  0.000575  0.000627  0.000683  0.000745   \n",
      "\n",
      "            440       445       450  ...       755       760       765  \\\n",
      "11061  0.001996  0.002266  0.002583  ...  0.003063  0.002975  0.002893   \n",
      "5306   0.000680  0.000739  0.000804  ...  0.012679  0.011785  0.011001   \n",
      "27353  0.021029  0.015459  0.012130  ...  0.000772  0.000765  0.000758   \n",
      "25234  0.001094  0.001208  0.001337  ...  0.005420  0.005192  0.004982   \n",
      "16717  0.015093  0.022161  0.038706  ...  0.001418  0.001396  0.001374   \n",
      "...         ...       ...       ...  ...       ...       ...       ...   \n",
      "15538  0.000869  0.000952  0.001044  ...  0.007610  0.007214  0.006856   \n",
      "26299  0.002271  0.002597  0.002985  ...  0.002758  0.002684  0.002615   \n",
      "28265  0.009075  0.011746  0.015829  ...  0.001569  0.001541  0.001515   \n",
      "21609  0.012225  0.016714  0.025292  ...  0.001488  0.001463  0.001439   \n",
      "7792   0.000814  0.000890  0.000974  ...  0.008500  0.008027  0.007601   \n",
      "\n",
      "            770       775       780       785       790       796       800  \n",
      "11061  0.002816  0.002743  0.002675  0.002610  0.002549  0.002492  0.002438  \n",
      "5306   0.010308  0.009691  0.009140  0.008644  0.008198  0.007793  0.007425  \n",
      "27353  0.000752  0.000746  0.000740  0.000734  0.000729  0.000724  0.000719  \n",
      "25234  0.004789  0.004611  0.004446  0.004293  0.004151  0.004018  0.003894  \n",
      "16717  0.001353  0.001334  0.001315  0.001297  0.001279  0.001263  0.001247  \n",
      "...         ...       ...       ...       ...       ...       ...       ...  \n",
      "15538  0.006531  0.006235  0.005964  0.005716  0.005487  0.005276  0.005082  \n",
      "26299  0.002549  0.002488  0.002429  0.002375  0.002323  0.002273  0.002227  \n",
      "28265  0.001490  0.001467  0.001444  0.001423  0.001402  0.001382  0.001363  \n",
      "21609  0.001417  0.001396  0.001375  0.001356  0.001337  0.001319  0.001302  \n",
      "7792   0.007217  0.006868  0.006551  0.006261  0.005995  0.005751  0.005526  \n",
      "\n",
      "[3025 rows x 80 columns]\n",
      "       Core  Inner  Outer\n",
      "11061  1.06   1.46   1.46\n",
      "5306   2.05   0.66   0.96\n",
      "27353  0.15   2.08   2.59\n",
      "25234  1.74   2.14   3.60\n",
      "16717  0.61   2.48   3.68\n",
      "...     ...    ...    ...\n",
      "15538  1.72   3.03   1.70\n",
      "26299  1.08   0.53   1.24\n",
      "28265  0.70   1.33   2.31\n",
      "21609  0.68   0.94   1.74\n",
      "7792   1.23   2.48   0.18\n",
      "\n",
      "[3025 rows x 3 columns]\n"
     ]
    }
   ],
   "source": [
    "print(x_valid)"
   ]
  },
  {
   "cell_type": "code",
   "execution_count": 25,
   "metadata": {},
   "outputs": [
    {
     "name": "stdout",
     "output_type": "stream",
     "text": [
      "       Core  Inner  Outer\n",
      "23665  1.88   2.09   2.53\n",
      "24210  2.02   2.38   3.02\n",
      "27292  1.89   2.32   1.49\n",
      "13092  0.71   1.05   0.24\n",
      "20762  1.29   1.85   4.06\n",
      "...     ...    ...    ...\n",
      "11696  1.31   0.29   1.14\n",
      "10530  1.12   2.55   0.33\n",
      "3665   1.14   2.06   1.98\n",
      "18517  0.70   2.48   0.86\n",
      "22923  0.35   2.00   3.94\n",
      "\n",
      "[10082 rows x 3 columns]\n",
      "[[1.7467222  1.6956799  2.0073993 ]\n",
      " [1.7422811  1.7433994  1.6947055 ]\n",
      " [1.7138588  1.7328229  1.0421419 ]\n",
      " ...\n",
      " [1.186459   1.5037391  2.2758205 ]\n",
      " [0.8841902  1.5456152  2.2271564 ]\n",
      " [0.35312492 1.9599249  2.2783253 ]]\n"
     ]
    }
   ],
   "source": [
    "print(y_test)\n",
    "print(predictions)"
   ]
  },
  {
   "cell_type": "code",
   "execution_count": 22,
   "metadata": {},
   "outputs": [
    {
     "data": {
      "text/plain": [
       "array([[1.6560289, 1.5345199, 2.3874595],\n",
       "       [0.6516586, 1.5548751, 2.2198157],\n",
       "       [1.7628788, 1.761275 , 0.8445606],\n",
       "       ...,\n",
       "       [1.7510579, 1.7563422, 1.3468722],\n",
       "       [1.3126909, 1.5096233, 2.3077028],\n",
       "       [0.7495056, 1.4540057, 2.173284 ]], dtype=float32)"
      ]
     },
     "execution_count": 22,
     "metadata": {},
     "output_type": "execute_result"
    }
   ],
   "source": []
  }
 ],
 "metadata": {
  "interpreter": {
   "hash": "0937019f161ec4c5c226a1df5515281052605e597a52b9af9ef297f5553d97b0"
  },
  "kernelspec": {
   "display_name": "Python 3.7.11 64-bit ('tensorflow': conda)",
   "language": "python",
   "name": "python3"
  },
  "language_info": {
   "codemirror_mode": {
    "name": "ipython",
    "version": 3
   },
   "file_extension": ".py",
   "mimetype": "text/x-python",
   "name": "python",
   "nbconvert_exporter": "python",
   "pygments_lexer": "ipython3",
   "version": "3.9.5"
  },
  "orig_nbformat": 4
 },
 "nbformat": 4,
 "nbformat_minor": 2
}
