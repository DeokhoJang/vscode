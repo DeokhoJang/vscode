{
 "cells": [
  {
   "cell_type": "code",
   "execution_count": 1,
   "metadata": {},
   "outputs": [
    {
     "name": "stdout",
     "output_type": "stream",
     "text": [
      "2.5.0\n",
      "       Core  Inner  Outer       405       410       415       420       425  \\\n",
      "0      1.73   2.82   0.61  0.000382  0.000414  0.000448  0.000485  0.000525   \n",
      "1      1.93   2.00   0.49  0.000341  0.000368  0.000397  0.000429  0.000463   \n",
      "6      1.68   2.98   2.72  0.000539  0.000589  0.000644  0.000705  0.000772   \n",
      "7      0.17   2.65   3.84  0.642560  0.988060  1.000000  0.685670  0.341110   \n",
      "9      0.88   2.07   0.78  0.000924  0.001030  0.001150  0.001287  0.001445   \n",
      "...     ...    ...    ...       ...       ...       ...       ...       ...   \n",
      "29993  1.76   0.25   3.46  0.000627  0.000689  0.000757  0.000834  0.000919   \n",
      "29994  0.69   2.11   0.33  0.001167  0.001313  0.001483  0.001681  0.001912   \n",
      "29995  1.73   2.78   2.79  0.000528  0.000577  0.000630  0.000690  0.000755   \n",
      "29996  1.81   2.21   1.43  0.000448  0.000487  0.000529  0.000576  0.000627   \n",
      "29998  2.00   0.56   3.46  0.000543  0.000593  0.000649  0.000710  0.000779   \n",
      "\n",
      "            430       435  ...       755       760       765       770  \\\n",
      "0      0.000569  0.000618  ...  0.013235  0.012279  0.011443  0.010705   \n",
      "1      0.000500  0.000541  ...  0.019828  0.017909  0.016336  0.015014   \n",
      "6      0.000847  0.000931  ...  0.005961  0.005695  0.005452  0.005229   \n",
      "7      0.139560  0.058203  ...  0.000826  0.000819  0.000811  0.000804   \n",
      "9      0.001627  0.001838  ...  0.002921  0.002840  0.002763  0.002691   \n",
      "...         ...       ...  ...       ...       ...       ...       ...   \n",
      "29993  0.001015  0.001123  ...  0.004584  0.004410  0.004249  0.004100   \n",
      "29994  0.002184  0.002507  ...  0.002401  0.002343  0.002288  0.002236   \n",
      "29995  0.000828  0.000910  ...  0.006058  0.005784  0.005533  0.005304   \n",
      "29996  0.000684  0.000746  ...  0.008474  0.008003  0.007579  0.007197   \n",
      "29998  0.000854  0.000939  ...  0.005884  0.005624  0.005385  0.005167   \n",
      "\n",
      "            775       780       785       790       796       800  \n",
      "0      0.010051  0.009468  0.008944  0.008473  0.008047  0.007660  \n",
      "1      0.013883  0.012901  0.012041  0.011281  0.010605  0.010001  \n",
      "6      0.005023  0.004834  0.004658  0.004495  0.004344  0.004203  \n",
      "7      0.000798  0.000791  0.000785  0.000779  0.000773  0.000768  \n",
      "9      0.002624  0.002560  0.002500  0.002443  0.002389  0.002338  \n",
      "...         ...       ...       ...       ...       ...       ...  \n",
      "29993  0.003962  0.003833  0.003713  0.003602  0.003497  0.003398  \n",
      "29994  0.002187  0.002141  0.002097  0.002056  0.002016  0.001978  \n",
      "29995  0.005092  0.004897  0.004717  0.004550  0.004395  0.004251  \n",
      "29996  0.006849  0.006533  0.006245  0.005980  0.005737  0.005513  \n",
      "29998  0.004965  0.004779  0.004607  0.004447  0.004299  0.004160  \n",
      "\n",
      "[25205 rows x 83 columns]\n"
     ]
    }
   ],
   "source": [
    "import pathlib\n",
    "import matplotlib.pyplot as plt\n",
    "import pandas as pd\n",
    "import seaborn as sns\n",
    "# import pygad\n",
    "\n",
    "from sklearn.model_selection import train_test_split\n",
    "from sklearn.preprocessing import StandardScaler, MinMaxScaler\n",
    "\n",
    "import tensorflow as tf\n",
    "from tensorflow import keras\n",
    "from tensorflow.keras import layers, optimizers\n",
    "from tensorflow.keras import callbacks\n",
    "from tensorflow.keras.layers import (Input, Dense, concatenate, LeakyReLU)\n",
    "\n",
    "print(tf.__version__)\n",
    "\n",
    "\n",
    "\n",
    "column_names = [\n",
    "    \"Core\",\n",
    "    \"Inner\",\n",
    "    \"Outer\",\n",
    "    \"405\",\"410\",\"415\",\"420\",\"425\",\"430\",\"435\", \"440\",\"445\", \"450\" ,\"455\",\"460\",\"465\",\"470\",\"475\",\"480\",\"485\",\"490\",\"495\",\"500\",\n",
    "    \"505\",\"510\",\"515\",\"520\",\"525\",\"530\",\"535\", \"540\",\"545\", \"550\" ,\"555\",\"560\",\"565\",\"570\",\"575\",\"580\",\"585\",\"590\",\"595\",\"600\",\n",
    "    \"605\",\"610\",\"615\",\"620\",\"625\",\"630\",\"635\", \"640\",\"645\",\"650\" ,\"655\",\"660\",\"665\",\"670\",\"675\",\"680\",\"685\",\"690\",\"695\",\"700\",\n",
    "    \"705\",\"710\",\"715\",\"720\",\"725\",\"730\",\"735\",\"740\", \"745\",\"750\" ,\"755\",\"760\",\"765\",\"770\",\"775\",\"780\",\"785\",\"790\",\"796\",\"800\"\n",
    "]\n",
    "raw_dataset = pd.read_csv(\n",
    "    'C:/Users/OIDL-Jang/Documents/Test_Set_Wavelength_2022-0117 15-00-55.csv',\n",
    "    names=column_names,\n",
    "    # encoding='cp949'\n",
    ")\n",
    "raw_data_dropna = raw_dataset.dropna()\n",
    "dataset = raw_data_dropna.copy()\n",
    "\n",
    "print(dataset)\n"
   ]
  },
  {
   "cell_type": "code",
   "execution_count": 2,
   "metadata": {},
   "outputs": [
    {
     "name": "stdout",
     "output_type": "stream",
     "text": [
      "       Core  Inner  Outer\n",
      "26976  1.22   1.22   3.35\n",
      "21624  2.00   2.48   3.48\n",
      "29614  1.32   2.48   3.44\n",
      "21304  0.87   0.46   2.54\n",
      "23801  0.23   1.41   4.09\n",
      "...     ...    ...    ...\n",
      "9799   1.58   0.86   1.70\n",
      "3958   0.58   0.71   1.49\n",
      "29700  2.09   2.84   3.43\n",
      "5873   1.85   0.72   1.27\n",
      "14904  1.07   1.79   2.94\n",
      "\n",
      "[5041 rows x 3 columns]\n",
      "            405       410       415       420       425       430       435  \\\n",
      "26976  0.000880  0.000979  0.001091  0.001218  0.001363  0.001530  0.001723   \n",
      "21624  0.000497  0.000541  0.000590  0.000644  0.000704  0.000770  0.000843   \n",
      "29614  0.000730  0.000806  0.000892  0.000988  0.001096  0.001219  0.001359   \n",
      "21304  0.001826  0.002105  0.002441  0.002849  0.003348  0.003968  0.004748   \n",
      "23801  1.000000  0.509070  0.200020  0.077437  0.038664  0.025211  0.018720   \n",
      "...         ...       ...       ...       ...       ...       ...       ...   \n",
      "9799   0.000588  0.000644  0.000706  0.000776  0.000853  0.000939  0.001035   \n",
      "3958   0.005462  0.006911  0.008945  0.011934  0.016798  0.026838  0.054292   \n",
      "29700  0.000470  0.000511  0.000557  0.000607  0.000662  0.000723  0.000790   \n",
      "5873   0.000462  0.000503  0.000547  0.000596  0.000650  0.000709  0.000775   \n",
      "14904  0.000980  0.001095  0.001226  0.001376  0.001550  0.001751  0.001986   \n",
      "\n",
      "            440       445       450  ...       755       760       765  \\\n",
      "26976  0.001947  0.002207  0.002513  ...  0.003087  0.002998  0.002914   \n",
      "21624  0.000924  0.001014  0.001115  ...  0.006955  0.006614  0.006304   \n",
      "29614  0.001519  0.001701  0.001912  ...  0.003746  0.003621  0.003506   \n",
      "21304  0.005745  0.007045  0.008781  ...  0.001803  0.001768  0.001735   \n",
      "23801  0.014724  0.011992  0.010024  ...  0.000943  0.000936  0.000928   \n",
      "...         ...       ...       ...  ...       ...       ...       ...   \n",
      "9799   0.001144  0.001265  0.001403  ...  0.005154  0.004945  0.004752   \n",
      "3958   0.131970  0.309360  0.595950  ...  0.001184  0.001168  0.001152   \n",
      "29700  0.000864  0.000947  0.001039  ...  0.007647  0.007248  0.006887   \n",
      "5873   0.000847  0.000927  0.001016  ...  0.007957  0.007532  0.007149   \n",
      "14904  0.002261  0.002585  0.002971  ...  0.002762  0.002687  0.002618   \n",
      "\n",
      "            770       775       780       785       790       796       800  \n",
      "26976  0.002836  0.002762  0.002692  0.002627  0.002565  0.002507  0.002452  \n",
      "21624  0.006021  0.005762  0.005524  0.005306  0.005104  0.004918  0.004745  \n",
      "29614  0.003398  0.003297  0.003202  0.003114  0.003031  0.002952  0.002879  \n",
      "21304  0.001703  0.001673  0.001644  0.001617  0.001591  0.001566  0.001543  \n",
      "23801  0.000921  0.000914  0.000908  0.000902  0.000896  0.000890  0.000884  \n",
      "...         ...       ...       ...       ...       ...       ...       ...  \n",
      "9799   0.004573  0.004409  0.004256  0.004114  0.003981  0.003858  0.003743  \n",
      "3958   0.001137  0.001123  0.001110  0.001097  0.001084  0.001072  0.001061  \n",
      "29700  0.006559  0.006261  0.005988  0.005738  0.005507  0.005295  0.005099  \n",
      "5873   0.006801  0.006484  0.006196  0.005931  0.005688  0.005465  0.005259  \n",
      "14904  0.002552  0.002490  0.002432  0.002377  0.002325  0.002276  0.002229  \n",
      "\n",
      "[5041 rows x 80 columns]\n"
     ]
    }
   ],
   "source": [
    "\n",
    "# print(dataset.tail())\n",
    "\n",
    "x_all = dataset.iloc[:,:3]\n",
    "y_all = dataset.iloc[:,3:]\n",
    "\n",
    "x_train_all, x_test, y_train_all, y_test = train_test_split(x_all, y_all, test_size = 0.2)\n",
    "# x_train_all, x_test = train_test_split(x_all, test_size = 0.2)\n",
    "x_train, x_valid, y_train, y_valid = train_test_split(x_train_all, y_train_all, test_size = 0.1)\n",
    "#train_dataset = dataset.sample(frac=0.8, random_state=0)\n",
    "#test_dataset = dataset.drop(train_dataset.index)\n",
    "\n",
    "# print(x_all)\n",
    "\n",
    "# print(x_train_all)\n",
    "# print(x_train)\n",
    "print(x_test)\n",
    "print(y_test)"
   ]
  },
  {
   "cell_type": "code",
   "execution_count": 3,
   "metadata": {},
   "outputs": [
    {
     "name": "stdout",
     "output_type": "stream",
     "text": [
      "       Core  Inner  Outer\n",
      "24969  1.52   2.72   0.58\n",
      "16140  1.02   0.25   0.36\n",
      "2241   0.55   2.10   3.59\n",
      "13591  0.96   2.91   0.20\n",
      "1642   1.98   0.10   2.66\n",
      "...     ...    ...    ...\n",
      "17357  0.38   0.42   3.84\n",
      "24781  1.05   0.43   0.59\n",
      "26262  0.74   0.33   2.32\n",
      "8882   0.11   1.52   0.65\n",
      "28277  0.93   0.23   2.15\n",
      "\n",
      "[2017 rows x 3 columns]\n"
     ]
    }
   ],
   "source": [
    "print(x_valid)"
   ]
  },
  {
   "cell_type": "code",
   "execution_count": 4,
   "metadata": {},
   "outputs": [],
   "source": [
    "scaler = MinMaxScaler()\n",
    "nx_train = scaler.fit_transform(x_train)\n",
    "# x_valide = scaler.transform(x_valid)\n",
    "nx_test  = scaler.transform(x_test)\n"
   ]
  },
  {
   "cell_type": "code",
   "execution_count": 5,
   "metadata": {},
   "outputs": [
    {
     "name": "stdout",
     "output_type": "stream",
     "text": [
      "[[0.54       0.95333333 0.2175    ]\n",
      " [0.58       0.45333333 0.99      ]\n",
      " [0.475      0.69333333 0.425     ]\n",
      " ...\n",
      " [0.4        0.14       0.505     ]\n",
      " [0.89       0.58666667 0.9375    ]\n",
      " [0.255      0.42       0.345     ]]\n"
     ]
    }
   ],
   "source": [
    "print(nx_train)"
   ]
  },
  {
   "cell_type": "code",
   "execution_count": 6,
   "metadata": {},
   "outputs": [],
   "source": [
    "input_shape = Input(shape = (3,), name = \"Thickness\")\n",
    "hidden1 = Dense(70, activation = 'LeakyReLU', name = \"Hidden1\")(input_shape)\n",
    "hidden2 = Dense(90, activation = 'LeakyReLU', name = \"Hidden2\")(hidden1)\n",
    "hidden3 = Dense(90, activation = 'LeakyReLU', name = \"Hidden3\")(hidden2)\n",
    "hidden4 = Dense(90, activation = 'LeakyReLU', name = \"Hidden4\")(hidden3)\n",
    "hidden5 = Dense(90, activation = 'LeakyReLU', name = \"Hidden5\")(hidden4)\n",
    "hidden6 = Dense(90, activation = 'LeakyReLU', name = \"Hidden6\")(hidden5)\n",
    "hidden7 = Dense(90, activation = 'LeakyReLU', name = \"Hidden7\")(hidden6)\n",
    "hidden8 = Dense(90, activation = 'LeakyReLU', name = \"Hidden8\")(hidden7)\n",
    "hidden9 = Dense(90, activation = 'LeakyReLU', name = \"Hidden9\")(hidden8)\n",
    "hidden10 = Dense(90, activation = 'LeakyReLU', name = \"Hidden10\")(hidden9)\n",
    "output = Dense(80, name = \"Output\")(hidden10)\n",
    "\n",
    "\n",
    "model = keras.Model(inputs=input_shape, outputs = output)"
   ]
  },
  {
   "cell_type": "code",
   "execution_count": 7,
   "metadata": {},
   "outputs": [
    {
     "name": "stdout",
     "output_type": "stream",
     "text": [
      "Model: \"model\"\n",
      "_________________________________________________________________\n",
      "Layer (type)                 Output Shape              Param #   \n",
      "=================================================================\n",
      "Thickness (InputLayer)       [(None, 3)]               0         \n",
      "_________________________________________________________________\n",
      "Hidden1 (Dense)              (None, 70)                280       \n",
      "_________________________________________________________________\n",
      "Hidden2 (Dense)              (None, 90)                6390      \n",
      "_________________________________________________________________\n",
      "Hidden3 (Dense)              (None, 90)                8190      \n",
      "_________________________________________________________________\n",
      "Hidden4 (Dense)              (None, 90)                8190      \n",
      "_________________________________________________________________\n",
      "Hidden5 (Dense)              (None, 90)                8190      \n",
      "_________________________________________________________________\n",
      "Hidden6 (Dense)              (None, 90)                8190      \n",
      "_________________________________________________________________\n",
      "Hidden7 (Dense)              (None, 90)                8190      \n",
      "_________________________________________________________________\n",
      "Hidden8 (Dense)              (None, 90)                8190      \n",
      "_________________________________________________________________\n",
      "Hidden9 (Dense)              (None, 90)                8190      \n",
      "_________________________________________________________________\n",
      "Hidden10 (Dense)             (None, 90)                8190      \n",
      "_________________________________________________________________\n",
      "Output (Dense)               (None, 80)                7280      \n",
      "=================================================================\n",
      "Total params: 79,470\n",
      "Trainable params: 79,470\n",
      "Non-trainable params: 0\n",
      "_________________________________________________________________\n"
     ]
    }
   ],
   "source": [
    "model.compile(loss=\"mse\", optimizer=\"Adam\", metrics=[\"mse\"],)\n",
    "\n",
    "model.summary()"
   ]
  },
  {
   "cell_type": "code",
   "execution_count": 8,
   "metadata": {},
   "outputs": [
    {
     "name": "stdout",
     "output_type": "stream",
     "text": [
      "158/158 [==============================] - 0s 565us/step - loss: 0.0617 - mse: 0.0617\n"
     ]
    }
   ],
   "source": [
    "model.evaluate(nx_test,y_test,batch_size=32)\n",
    "early_stop = tf.keras.callbacks.EarlyStopping(monitor='val_loss', patience = 10, restore_best_weights = True)\n"
   ]
  },
  {
   "cell_type": "code",
   "execution_count": 9,
   "metadata": {},
   "outputs": [
    {
     "name": "stdout",
     "output_type": "stream",
     "text": [
      "Epoch 1/5000\n",
      "568/568 [==============================] - 1s 2ms/step - loss: 0.0126 - mse: 0.0126 - val_loss: 0.1313 - val_mse: 0.1313\n",
      "Epoch 2/5000\n",
      "568/568 [==============================] - 1s 1ms/step - loss: 0.0026 - mse: 0.0026 - val_loss: 0.1350 - val_mse: 0.1350\n",
      "Epoch 3/5000\n",
      "568/568 [==============================] - 1s 1ms/step - loss: 0.0015 - mse: 0.0015 - val_loss: 0.1260 - val_mse: 0.1260\n",
      "Epoch 4/5000\n",
      "568/568 [==============================] - 1s 1ms/step - loss: 8.8468e-04 - mse: 8.8468e-04 - val_loss: 0.1340 - val_mse: 0.1340\n",
      "Epoch 5/5000\n",
      "568/568 [==============================] - 1s 1ms/step - loss: 9.5246e-04 - mse: 9.5246e-04 - val_loss: 0.1357 - val_mse: 0.1357\n",
      "Epoch 6/5000\n",
      "568/568 [==============================] - 1s 1ms/step - loss: 9.8433e-04 - mse: 9.8433e-04 - val_loss: 0.1280 - val_mse: 0.1280\n",
      "Epoch 7/5000\n",
      "568/568 [==============================] - 1s 1ms/step - loss: 7.6034e-04 - mse: 7.6034e-04 - val_loss: 0.1114 - val_mse: 0.1114\n",
      "Epoch 8/5000\n",
      "568/568 [==============================] - 1s 1ms/step - loss: 8.4938e-04 - mse: 8.4938e-04 - val_loss: 0.1184 - val_mse: 0.1184\n",
      "Epoch 9/5000\n",
      "568/568 [==============================] - 1s 1ms/step - loss: 5.0021e-04 - mse: 5.0021e-04 - val_loss: 0.1201 - val_mse: 0.1201\n",
      "Epoch 10/5000\n",
      "568/568 [==============================] - 1s 1ms/step - loss: 7.1304e-04 - mse: 7.1304e-04 - val_loss: 0.1201 - val_mse: 0.1201\n",
      "Epoch 11/5000\n",
      "568/568 [==============================] - 1s 1ms/step - loss: 5.7829e-04 - mse: 5.7829e-04 - val_loss: 0.1201 - val_mse: 0.1201\n",
      "Epoch 12/5000\n",
      "568/568 [==============================] - 1s 1ms/step - loss: 4.7023e-04 - mse: 4.7023e-04 - val_loss: 0.1202 - val_mse: 0.1202\n",
      "Epoch 13/5000\n",
      "568/568 [==============================] - 1s 1ms/step - loss: 4.7270e-04 - mse: 4.7270e-04 - val_loss: 0.1220 - val_mse: 0.1220\n",
      "Epoch 14/5000\n",
      "568/568 [==============================] - 1s 1ms/step - loss: 7.0788e-04 - mse: 7.0788e-04 - val_loss: 0.1250 - val_mse: 0.1250\n",
      "Epoch 15/5000\n",
      "568/568 [==============================] - 1s 1ms/step - loss: 5.3705e-04 - mse: 5.3705e-04 - val_loss: 0.1225 - val_mse: 0.1225\n",
      "Epoch 16/5000\n",
      "568/568 [==============================] - 1s 1ms/step - loss: 4.3593e-04 - mse: 4.3593e-04 - val_loss: 0.1239 - val_mse: 0.1239\n",
      "Epoch 17/5000\n",
      "568/568 [==============================] - 1s 1ms/step - loss: 4.7347e-04 - mse: 4.7347e-04 - val_loss: 0.1181 - val_mse: 0.1181\n"
     ]
    }
   ],
   "source": [
    "\n",
    "history = model.fit( nx_train, y_train,\n",
    "    epochs=5000,\n",
    "    batch_size = 32,\n",
    "    validation_data = (x_valid,y_valid),\n",
    "    callbacks=[early_stop],\n",
    ")\n"
   ]
  },
  {
   "cell_type": "code",
   "execution_count": 10,
   "metadata": {},
   "outputs": [
    {
     "data": {
      "image/png": "[encoded data removed]",
      "text/plain": [
       "<Figure size 864x576 with 1 Axes>"
      ]
     },
     "metadata": {
      "needs_background": "light"
     },
     "output_type": "display_data"
    }
   ],
   "source": [
    "def Drawing_Scalars(history_name):\n",
    "\n",
    "    history_WL = pd.DataFrame(history_name.history)\n",
    "    history_WL.plot(figsize=(12,8),linewidth =3)\n",
    "\n",
    "    plt.grid(True)\n",
    "\n",
    "    plt.legend(loc =\"upper right\",fontsize = 15)\n",
    "\n",
    "    plt.title(\"Learning Curve\",fontsize=30, pad=30, color = 'white')\n",
    "    plt.xlabel(\"Epoch\",fontsize = 20, loc='center',labelpad = 20,color = 'white')\n",
    "    plt.ylabel('Variable',fontsize=20,rotation= 0, loc = 'center', labelpad = 40,color = 'white')\n",
    "\n",
    "    ax = plt.gca()\n",
    "    ax.spines[\"right\"].set_visible(False)\n",
    "    ax.spines[\"top\"].set_visible(False)\n",
    "\n",
    "    plt.show()\n",
    "\n",
    "\n",
    "Drawing_Scalars(history)\n",
    "\n"
   ]
  },
  {
   "cell_type": "code",
   "execution_count": 11,
   "metadata": {},
   "outputs": [
    {
     "name": "stdout",
     "output_type": "stream",
     "text": [
      "40/40 [==============================] - 0s 844us/step - loss: 0.0021 - mse: 0.0021\n",
      "[[ 0.00121134  0.00660279  0.01401418 ...  0.00766342  0.00922264\n",
      "  -0.00468432]\n",
      " [ 0.00452776  0.01650376  0.01884812 ...  0.00778134  0.01216505\n",
      "  -0.01165545]\n",
      " [-0.00859536  0.01528995  0.01499658 ...  0.00842733  0.0080275\n",
      "  -0.0040655 ]\n",
      " ...\n",
      " [ 0.00478432  0.01586444  0.01553096 ...  0.00840002  0.00906011\n",
      "  -0.01206521]\n",
      " [ 0.00168345  0.01811789  0.01777116 ...  0.00662773  0.01016048\n",
      "  -0.00890762]\n",
      " [-0.00514079  0.01403242  0.0174725  ...  0.00410959  0.00781581\n",
      "  -0.00885188]]\n"
     ]
    }
   ],
   "source": [
    "# test_predictions = model.predict(x_valid).flatten()\n",
    "\n",
    "# tf.size(test_predictions)\n",
    "\n",
    "# print(test_predictions)\n",
    "\n",
    "results = model.evaluate(nx_test, y_test,batch_size = 128)\n",
    "\n",
    "predictions = model.predict(nx_test)\n",
    "\n",
    "print(predictions)\n",
    "\n"
   ]
  },
  {
   "cell_type": "code",
   "execution_count": 12,
   "metadata": {},
   "outputs": [
    {
     "name": "stdout",
     "output_type": "stream",
     "text": [
      "       Core  Inner  Outer\n",
      "26976  1.22   1.22   3.35\n",
      "21624  2.00   2.48   3.48\n",
      "29614  1.32   2.48   3.44\n",
      "21304  0.87   0.46   2.54\n",
      "23801  0.23   1.41   4.09\n",
      "...     ...    ...    ...\n",
      "9799   1.58   0.86   1.70\n",
      "3958   0.58   0.71   1.49\n",
      "29700  2.09   2.84   3.43\n",
      "5873   1.85   0.72   1.27\n",
      "14904  1.07   1.79   2.94\n",
      "\n",
      "[5041 rows x 3 columns]\n"
     ]
    }
   ],
   "source": [
    "# import numpy as np\n",
    "# import sys\n",
    "\n",
    "# np.set_printoptions(threshold=sys.maxsize)\n",
    "# print(predictions)\n",
    "\n",
    "print(x_test)"
   ]
  },
  {
   "cell_type": "code",
   "execution_count": 13,
   "metadata": {},
   "outputs": [
    {
     "name": "stdout",
     "output_type": "stream",
     "text": [
      "158/158 [==============================] - 0s 769us/step - loss: 0.1117 - mse: 0.1117\n",
      "0.11168736219406128\n"
     ]
    }
   ],
   "source": [
    "score = model.evaluate(x_test,y_test,verbose=1)\n",
    "print(score[1])"
   ]
  },
  {
   "cell_type": "code",
   "execution_count": 14,
   "metadata": {},
   "outputs": [
    {
     "name": "stdout",
     "output_type": "stream",
     "text": [
      "       Core  Inner  Outer\n",
      "26976  1.22   1.22   3.35\n",
      "21624  2.00   2.48   3.48\n",
      "29614  1.32   2.48   3.44\n",
      "21304  0.87   0.46   2.54\n",
      "23801  0.23   1.41   4.09\n",
      "...     ...    ...    ...\n",
      "9799   1.58   0.86   1.70\n",
      "3958   0.58   0.71   1.49\n",
      "29700  2.09   2.84   3.43\n",
      "5873   1.85   0.72   1.27\n",
      "14904  1.07   1.79   2.94\n",
      "\n",
      "[5041 rows x 3 columns]\n"
     ]
    },
    {
     "data": {
      "text/plain": [
       "<matplotlib.collections.PathCollection at 0x224f85f5f40>"
      ]
     },
     "execution_count": 14,
     "metadata": {},
     "output_type": "execute_result"
    },
    {
     "data": {
      "image/png": "[encoded data removed]",
      "text/plain": [
       "<Figure size 432x288 with 1 Axes>"
      ]
     },
     "metadata": {
      "needs_background": "light"
     },
     "output_type": "display_data"
    }
   ],
   "source": [
    "import numpy as np\n",
    "print(x_test)\n",
    "\n",
    "wave_range = np.arange(405,805,5)\n",
    "plt.scatter(wave_range,predictions[5040,:])\n"
   ]
  },
  {
   "cell_type": "code",
   "execution_count": 15,
   "metadata": {},
   "outputs": [
    {
     "ename": "TypeError",
     "evalue": "'(2720, slice(None, None, None))' is an invalid key",
     "output_type": "error",
     "traceback": [
      "\u001b[1;31m---------------------------------------------------------------------------\u001b[0m",
      "\u001b[1;31mTypeError\u001b[0m                                 Traceback (most recent call last)",
      "\u001b[1;32mC:\\Users\\OIDL-J~1\\AppData\\Local\\Temp/ipykernel_30076/2098998140.py\u001b[0m in \u001b[0;36m<module>\u001b[1;34m\u001b[0m\n\u001b[0;32m      1\u001b[0m \u001b[0mplt\u001b[0m\u001b[1;33m.\u001b[0m\u001b[0mscatter\u001b[0m\u001b[1;33m(\u001b[0m\u001b[0mwave_range\u001b[0m\u001b[1;33m,\u001b[0m\u001b[0mpredictions\u001b[0m\u001b[1;33m[\u001b[0m\u001b[1;36m2720\u001b[0m\u001b[1;33m,\u001b[0m\u001b[1;33m:\u001b[0m\u001b[1;33m]\u001b[0m\u001b[1;33m)\u001b[0m\u001b[1;33m\u001b[0m\u001b[1;33m\u001b[0m\u001b[0m\n\u001b[1;32m----> 2\u001b[1;33m \u001b[0mplt\u001b[0m\u001b[1;33m.\u001b[0m\u001b[0mscatter\u001b[0m\u001b[1;33m(\u001b[0m\u001b[0mwave_range\u001b[0m\u001b[1;33m,\u001b[0m\u001b[0my_test\u001b[0m\u001b[1;33m[\u001b[0m\u001b[1;36m2720\u001b[0m\u001b[1;33m,\u001b[0m\u001b[1;33m:\u001b[0m\u001b[1;33m]\u001b[0m\u001b[1;33m)\u001b[0m\u001b[1;33m\u001b[0m\u001b[1;33m\u001b[0m\u001b[0m\n\u001b[0m",
      "\u001b[1;32mC:\\Python39\\lib\\site-packages\\pandas\\core\\frame.py\u001b[0m in \u001b[0;36m__getitem__\u001b[1;34m(self, key)\u001b[0m\n\u001b[0;32m   3456\u001b[0m             \u001b[1;32mif\u001b[0m \u001b[0mself\u001b[0m\u001b[1;33m.\u001b[0m\u001b[0mcolumns\u001b[0m\u001b[1;33m.\u001b[0m\u001b[0mnlevels\u001b[0m \u001b[1;33m>\u001b[0m \u001b[1;36m1\u001b[0m\u001b[1;33m:\u001b[0m\u001b[1;33m\u001b[0m\u001b[1;33m\u001b[0m\u001b[0m\n\u001b[0;32m   3457\u001b[0m                 \u001b[1;32mreturn\u001b[0m \u001b[0mself\u001b[0m\u001b[1;33m.\u001b[0m\u001b[0m_getitem_multilevel\u001b[0m\u001b[1;33m(\u001b[0m\u001b[0mkey\u001b[0m\u001b[1;33m)\u001b[0m\u001b[1;33m\u001b[0m\u001b[1;33m\u001b[0m\u001b[0m\n\u001b[1;32m-> 3458\u001b[1;33m             \u001b[0mindexer\u001b[0m \u001b[1;33m=\u001b[0m \u001b[0mself\u001b[0m\u001b[1;33m.\u001b[0m\u001b[0mcolumns\u001b[0m\u001b[1;33m.\u001b[0m\u001b[0mget_loc\u001b[0m\u001b[1;33m(\u001b[0m\u001b[0mkey\u001b[0m\u001b[1;33m)\u001b[0m\u001b[1;33m\u001b[0m\u001b[1;33m\u001b[0m\u001b[0m\n\u001b[0m\u001b[0;32m   3459\u001b[0m             \u001b[1;32mif\u001b[0m \u001b[0mis_integer\u001b[0m\u001b[1;33m(\u001b[0m\u001b[0mindexer\u001b[0m\u001b[1;33m)\u001b[0m\u001b[1;33m:\u001b[0m\u001b[1;33m\u001b[0m\u001b[1;33m\u001b[0m\u001b[0m\n\u001b[0;32m   3460\u001b[0m                 \u001b[0mindexer\u001b[0m \u001b[1;33m=\u001b[0m \u001b[1;33m[\u001b[0m\u001b[0mindexer\u001b[0m\u001b[1;33m]\u001b[0m\u001b[1;33m\u001b[0m\u001b[1;33m\u001b[0m\u001b[0m\n",
      "\u001b[1;32mC:\\Python39\\lib\\site-packages\\pandas\\core\\indexes\\base.py\u001b[0m in \u001b[0;36mget_loc\u001b[1;34m(self, key, method, tolerance)\u001b[0m\n\u001b[0;32m   3359\u001b[0m             \u001b[0mcasted_key\u001b[0m \u001b[1;33m=\u001b[0m \u001b[0mself\u001b[0m\u001b[1;33m.\u001b[0m\u001b[0m_maybe_cast_indexer\u001b[0m\u001b[1;33m(\u001b[0m\u001b[0mkey\u001b[0m\u001b[1;33m)\u001b[0m\u001b[1;33m\u001b[0m\u001b[1;33m\u001b[0m\u001b[0m\n\u001b[0;32m   3360\u001b[0m             \u001b[1;32mtry\u001b[0m\u001b[1;33m:\u001b[0m\u001b[1;33m\u001b[0m\u001b[1;33m\u001b[0m\u001b[0m\n\u001b[1;32m-> 3361\u001b[1;33m                 \u001b[1;32mreturn\u001b[0m \u001b[0mself\u001b[0m\u001b[1;33m.\u001b[0m\u001b[0m_engine\u001b[0m\u001b[1;33m.\u001b[0m\u001b[0mget_loc\u001b[0m\u001b[1;33m(\u001b[0m\u001b[0mcasted_key\u001b[0m\u001b[1;33m)\u001b[0m\u001b[1;33m\u001b[0m\u001b[1;33m\u001b[0m\u001b[0m\n\u001b[0m\u001b[0;32m   3362\u001b[0m             \u001b[1;32mexcept\u001b[0m \u001b[0mKeyError\u001b[0m \u001b[1;32mas\u001b[0m \u001b[0merr\u001b[0m\u001b[1;33m:\u001b[0m\u001b[1;33m\u001b[0m\u001b[1;33m\u001b[0m\u001b[0m\n\u001b[0;32m   3363\u001b[0m                 \u001b[1;32mraise\u001b[0m \u001b[0mKeyError\u001b[0m\u001b[1;33m(\u001b[0m\u001b[0mkey\u001b[0m\u001b[1;33m)\u001b[0m \u001b[1;32mfrom\u001b[0m \u001b[0merr\u001b[0m\u001b[1;33m\u001b[0m\u001b[1;33m\u001b[0m\u001b[0m\n",
      "\u001b[1;32mC:\\Python39\\lib\\site-packages\\pandas\\_libs\\index.pyx\u001b[0m in \u001b[0;36mpandas._libs.index.IndexEngine.get_loc\u001b[1;34m()\u001b[0m\n",
      "\u001b[1;32mC:\\Python39\\lib\\site-packages\\pandas\\_libs\\index.pyx\u001b[0m in \u001b[0;36mpandas._libs.index.IndexEngine.get_loc\u001b[1;34m()\u001b[0m\n",
      "\u001b[1;31mTypeError\u001b[0m: '(2720, slice(None, None, None))' is an invalid key"
     ]
    },
    {
     "data": {
      "image/png": "[encoded data removed]",
      "text/plain": [
       "<Figure size 432x288 with 1 Axes>"
      ]
     },
     "metadata": {
      "needs_background": "light"
     },
     "output_type": "display_data"
    }
   ],
   "source": [
    "plt.scatter(wave_range,predictions[2720,:])\n",
    "plt.scatter(wave_range,y_test[2720,:])"
   ]
  },
  {
   "cell_type": "code",
   "execution_count": 18,
   "metadata": {},
   "outputs": [
    {
     "ename": "TypeError",
     "evalue": "'(2, slice(None, None, None))' is an invalid key",
     "output_type": "error",
     "traceback": [
      "\u001b[1;31m---------------------------------------------------------------------------\u001b[0m",
      "\u001b[1;31mTypeError\u001b[0m                                 Traceback (most recent call last)",
      "\u001b[1;32mC:\\Users\\OIDL-J~1\\AppData\\Local\\Temp/ipykernel_30076/4279962676.py\u001b[0m in \u001b[0;36m<module>\u001b[1;34m\u001b[0m\n\u001b[1;32m----> 1\u001b[1;33m \u001b[0mprint\u001b[0m\u001b[1;33m(\u001b[0m\u001b[0my_test\u001b[0m\u001b[1;33m[\u001b[0m\u001b[1;36m2\u001b[0m\u001b[1;33m,\u001b[0m\u001b[1;33m:\u001b[0m\u001b[1;33m]\u001b[0m\u001b[1;33m)\u001b[0m\u001b[1;33m\u001b[0m\u001b[1;33m\u001b[0m\u001b[0m\n\u001b[0m\u001b[0;32m      2\u001b[0m \u001b[1;31m# plt.scatter(wave_range,y_test[2,:])\u001b[0m\u001b[1;33m\u001b[0m\u001b[1;33m\u001b[0m\u001b[1;33m\u001b[0m\u001b[0m\n",
      "\u001b[1;32mC:\\Python39\\lib\\site-packages\\pandas\\core\\frame.py\u001b[0m in \u001b[0;36m__getitem__\u001b[1;34m(self, key)\u001b[0m\n\u001b[0;32m   3456\u001b[0m             \u001b[1;32mif\u001b[0m \u001b[0mself\u001b[0m\u001b[1;33m.\u001b[0m\u001b[0mcolumns\u001b[0m\u001b[1;33m.\u001b[0m\u001b[0mnlevels\u001b[0m \u001b[1;33m>\u001b[0m \u001b[1;36m1\u001b[0m\u001b[1;33m:\u001b[0m\u001b[1;33m\u001b[0m\u001b[1;33m\u001b[0m\u001b[0m\n\u001b[0;32m   3457\u001b[0m                 \u001b[1;32mreturn\u001b[0m \u001b[0mself\u001b[0m\u001b[1;33m.\u001b[0m\u001b[0m_getitem_multilevel\u001b[0m\u001b[1;33m(\u001b[0m\u001b[0mkey\u001b[0m\u001b[1;33m)\u001b[0m\u001b[1;33m\u001b[0m\u001b[1;33m\u001b[0m\u001b[0m\n\u001b[1;32m-> 3458\u001b[1;33m             \u001b[0mindexer\u001b[0m \u001b[1;33m=\u001b[0m \u001b[0mself\u001b[0m\u001b[1;33m.\u001b[0m\u001b[0mcolumns\u001b[0m\u001b[1;33m.\u001b[0m\u001b[0mget_loc\u001b[0m\u001b[1;33m(\u001b[0m\u001b[0mkey\u001b[0m\u001b[1;33m)\u001b[0m\u001b[1;33m\u001b[0m\u001b[1;33m\u001b[0m\u001b[0m\n\u001b[0m\u001b[0;32m   3459\u001b[0m             \u001b[1;32mif\u001b[0m \u001b[0mis_integer\u001b[0m\u001b[1;33m(\u001b[0m\u001b[0mindexer\u001b[0m\u001b[1;33m)\u001b[0m\u001b[1;33m:\u001b[0m\u001b[1;33m\u001b[0m\u001b[1;33m\u001b[0m\u001b[0m\n\u001b[0;32m   3460\u001b[0m                 \u001b[0mindexer\u001b[0m \u001b[1;33m=\u001b[0m \u001b[1;33m[\u001b[0m\u001b[0mindexer\u001b[0m\u001b[1;33m]\u001b[0m\u001b[1;33m\u001b[0m\u001b[1;33m\u001b[0m\u001b[0m\n",
      "\u001b[1;32mC:\\Python39\\lib\\site-packages\\pandas\\core\\indexes\\base.py\u001b[0m in \u001b[0;36mget_loc\u001b[1;34m(self, key, method, tolerance)\u001b[0m\n\u001b[0;32m   3359\u001b[0m             \u001b[0mcasted_key\u001b[0m \u001b[1;33m=\u001b[0m \u001b[0mself\u001b[0m\u001b[1;33m.\u001b[0m\u001b[0m_maybe_cast_indexer\u001b[0m\u001b[1;33m(\u001b[0m\u001b[0mkey\u001b[0m\u001b[1;33m)\u001b[0m\u001b[1;33m\u001b[0m\u001b[1;33m\u001b[0m\u001b[0m\n\u001b[0;32m   3360\u001b[0m             \u001b[1;32mtry\u001b[0m\u001b[1;33m:\u001b[0m\u001b[1;33m\u001b[0m\u001b[1;33m\u001b[0m\u001b[0m\n\u001b[1;32m-> 3361\u001b[1;33m                 \u001b[1;32mreturn\u001b[0m \u001b[0mself\u001b[0m\u001b[1;33m.\u001b[0m\u001b[0m_engine\u001b[0m\u001b[1;33m.\u001b[0m\u001b[0mget_loc\u001b[0m\u001b[1;33m(\u001b[0m\u001b[0mcasted_key\u001b[0m\u001b[1;33m)\u001b[0m\u001b[1;33m\u001b[0m\u001b[1;33m\u001b[0m\u001b[0m\n\u001b[0m\u001b[0;32m   3362\u001b[0m             \u001b[1;32mexcept\u001b[0m \u001b[0mKeyError\u001b[0m \u001b[1;32mas\u001b[0m \u001b[0merr\u001b[0m\u001b[1;33m:\u001b[0m\u001b[1;33m\u001b[0m\u001b[1;33m\u001b[0m\u001b[0m\n\u001b[0;32m   3363\u001b[0m                 \u001b[1;32mraise\u001b[0m \u001b[0mKeyError\u001b[0m\u001b[1;33m(\u001b[0m\u001b[0mkey\u001b[0m\u001b[1;33m)\u001b[0m \u001b[1;32mfrom\u001b[0m \u001b[0merr\u001b[0m\u001b[1;33m\u001b[0m\u001b[1;33m\u001b[0m\u001b[0m\n",
      "\u001b[1;32mC:\\Python39\\lib\\site-packages\\pandas\\_libs\\index.pyx\u001b[0m in \u001b[0;36mpandas._libs.index.IndexEngine.get_loc\u001b[1;34m()\u001b[0m\n",
      "\u001b[1;32mC:\\Python39\\lib\\site-packages\\pandas\\_libs\\index.pyx\u001b[0m in \u001b[0;36mpandas._libs.index.IndexEngine.get_loc\u001b[1;34m()\u001b[0m\n",
      "\u001b[1;31mTypeError\u001b[0m: '(2, slice(None, None, None))' is an invalid key"
     ]
    }
   ],
   "source": [
    "# print(y_test[2,:])\n",
    "# plt.scatter(wave_range,y_test[2,:])"
   ]
  }
 ],
 "metadata": {
  "interpreter": {
   "hash": "0937019f161ec4c5c226a1df5515281052605e597a52b9af9ef297f5553d97b0"
  },
  "kernelspec": {
   "display_name": "Python 3.7.11 64-bit ('tensorflow': conda)",
   "language": "python",
   "name": "python3"
  },
  "language_info": {
   "codemirror_mode": {
    "name": "ipython",
    "version": 3
   },
   "file_extension": ".py",
   "mimetype": "text/x-python",
   "name": "python",
   "nbconvert_exporter": "python",
   "pygments_lexer": "ipython3",
   "version": "3.9.5"
  },
  "orig_nbformat": 4
 },
 "nbformat": 4,
 "nbformat_minor": 2
}
